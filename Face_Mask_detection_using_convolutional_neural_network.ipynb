{
  "nbformat": 4,
  "nbformat_minor": 0,
  "metadata": {
    "colab": {
      "name": "Face Mask detection using convolutional_neural_network.ipynb",
      "provenance": [],
      "collapsed_sections": [],
      "toc_visible": true
    },
    "kernelspec": {
      "display_name": "Python 3",
      "language": "python",
      "name": "python3"
    },
    "language_info": {
      "codemirror_mode": {
        "name": "ipython",
        "version": 3
      },
      "file_extension": ".py",
      "mimetype": "text/x-python",
      "name": "python",
      "nbconvert_exporter": "python",
      "pygments_lexer": "ipython3",
      "version": "3.8.3"
    }
  },
  "cells": [
    {
      "cell_type": "markdown",
      "metadata": {
        "id": "3DR-eO17geWu"
      },
      "source": [
        "# Convolutional Neural Network"
      ]
    },
    {
      "cell_type": "code",
      "metadata": {
        "id": "ymKVE2RtHukN",
        "outputId": "4206df41-9ec3-4b9c-def2-5967bd68ad30",
        "colab": {
          "base_uri": "https://localhost:8080/",
          "height": 34
        }
      },
      "source": [
        "from google.colab import drive\n",
        "drive.mount('/content/drive')"
      ],
      "execution_count": 1,
      "outputs": [
        {
          "output_type": "stream",
          "text": [
            "Mounted at /content/drive\n"
          ],
          "name": "stdout"
        }
      ]
    },
    {
      "cell_type": "markdown",
      "metadata": {
        "id": "EMefrVPCg-60"
      },
      "source": [
        "### Importing the libraries"
      ]
    },
    {
      "cell_type": "code",
      "metadata": {
        "id": "sCV30xyVhFbE"
      },
      "source": [
        "import tensorflow as tf\n",
        "from keras.preprocessing.image import ImageDataGenerator"
      ],
      "execution_count": 2,
      "outputs": []
    },
    {
      "cell_type": "code",
      "metadata": {
        "id": "FIleuCAjoFD8",
        "outputId": "1dd7eec5-7708-496c-ddd8-572825cc5a0a",
        "colab": {
          "base_uri": "https://localhost:8080/",
          "height": 35
        }
      },
      "source": [
        "tf.__version__"
      ],
      "execution_count": 3,
      "outputs": [
        {
          "output_type": "execute_result",
          "data": {
            "application/vnd.google.colaboratory.intrinsic+json": {
              "type": "string"
            },
            "text/plain": [
              "'2.3.0'"
            ]
          },
          "metadata": {
            "tags": []
          },
          "execution_count": 3
        }
      ]
    },
    {
      "cell_type": "markdown",
      "metadata": {
        "id": "oxQxCBWyoGPE"
      },
      "source": [
        "## Part 1 - Data Preprocessing"
      ]
    },
    {
      "cell_type": "markdown",
      "metadata": {
        "id": "MvE-heJNo3GG"
      },
      "source": [
        "### Preprocessing the Training set"
      ]
    },
    {
      "cell_type": "code",
      "metadata": {
        "id": "0koUcJMJpEBD",
        "outputId": "0d2e4aff-ebab-4b92-e6d5-eba7f2773b49",
        "colab": {
          "base_uri": "https://localhost:8080/",
          "height": 34
        }
      },
      "source": [
        "train_datagen = ImageDataGenerator(rescale = 1./255,\n",
        "                                   shear_range = 0.2,\n",
        "                                   zoom_range = 0.2,\n",
        "                                   horizontal_flip = True)\n",
        "training_set = train_datagen.flow_from_directory('/content/drive/My Drive/Face Mask detection /train',\n",
        "                                                 target_size = (64, 64),\n",
        "                                                 batch_size = 32,\n",
        "                                                 class_mode = 'binary')"
      ],
      "execution_count": 4,
      "outputs": [
        {
          "output_type": "stream",
          "text": [
            "Found 302 images belonging to 2 classes.\n"
          ],
          "name": "stdout"
        }
      ]
    },
    {
      "cell_type": "markdown",
      "metadata": {
        "id": "mrCMmGw9pHys"
      },
      "source": [
        "### Preprocessing the Test set"
      ]
    },
    {
      "cell_type": "code",
      "metadata": {
        "id": "SH4WzfOhpKc3",
        "outputId": "0d4a1c4d-c7bc-4259-ba93-2aa728f9fc2b",
        "colab": {
          "base_uri": "https://localhost:8080/",
          "height": 34
        }
      },
      "source": [
        "test_datagen = ImageDataGenerator(rescale = 1./255)\n",
        "test_set = test_datagen.flow_from_directory('/content/drive/My Drive/Face Mask detection /test',\n",
        "                                            target_size = (64, 64),\n",
        "                                            batch_size = 32,\n",
        "                                            class_mode = 'binary')"
      ],
      "execution_count": 5,
      "outputs": [
        {
          "output_type": "stream",
          "text": [
            "Found 136 images belonging to 2 classes.\n"
          ],
          "name": "stdout"
        }
      ]
    },
    {
      "cell_type": "markdown",
      "metadata": {
        "id": "af8O4l90gk7B"
      },
      "source": [
        "## Part 2 - Building the CNN"
      ]
    },
    {
      "cell_type": "markdown",
      "metadata": {
        "id": "ces1gXY2lmoX"
      },
      "source": [
        "### Initialising the CNN"
      ]
    },
    {
      "cell_type": "code",
      "metadata": {
        "id": "SAUt4UMPlhLS"
      },
      "source": [
        "cnn = tf.keras.models.Sequential()"
      ],
      "execution_count": 6,
      "outputs": []
    },
    {
      "cell_type": "markdown",
      "metadata": {
        "id": "u5YJj_XMl5LF"
      },
      "source": [
        "### Step 1 - Convolution"
      ]
    },
    {
      "cell_type": "code",
      "metadata": {
        "id": "XPzPrMckl-hV"
      },
      "source": [
        "cnn.add(tf.keras.layers.Conv2D(filters=32, kernel_size=3, activation='relu', input_shape=[64, 64, 3]))"
      ],
      "execution_count": 7,
      "outputs": []
    },
    {
      "cell_type": "markdown",
      "metadata": {
        "id": "tf87FpvxmNOJ"
      },
      "source": [
        "### Step 2 - Pooling"
      ]
    },
    {
      "cell_type": "code",
      "metadata": {
        "id": "ncpqPl69mOac"
      },
      "source": [
        "cnn.add(tf.keras.layers.MaxPool2D(pool_size=2, strides=2))"
      ],
      "execution_count": 8,
      "outputs": []
    },
    {
      "cell_type": "markdown",
      "metadata": {
        "id": "xaTOgD8rm4mU"
      },
      "source": [
        "### Adding a second convolutional layer"
      ]
    },
    {
      "cell_type": "code",
      "metadata": {
        "id": "i_-FZjn_m8gk"
      },
      "source": [
        "cnn.add(tf.keras.layers.Conv2D(filters=32, kernel_size=3, activation='relu'))\n",
        "cnn.add(tf.keras.layers.MaxPool2D(pool_size=2, strides=2))"
      ],
      "execution_count": 9,
      "outputs": []
    },
    {
      "cell_type": "markdown",
      "metadata": {
        "id": "tmiEuvTunKfk"
      },
      "source": [
        "### Step 3 - Flattening"
      ]
    },
    {
      "cell_type": "code",
      "metadata": {
        "id": "6AZeOGCvnNZn"
      },
      "source": [
        "cnn.add(tf.keras.layers.Flatten())"
      ],
      "execution_count": 10,
      "outputs": []
    },
    {
      "cell_type": "markdown",
      "metadata": {
        "id": "dAoSECOm203v"
      },
      "source": [
        "### Step 4 - Full Connection"
      ]
    },
    {
      "cell_type": "code",
      "metadata": {
        "id": "8GtmUlLd26Nq"
      },
      "source": [
        "cnn.add(tf.keras.layers.Dense(units=128, activation='relu'))"
      ],
      "execution_count": 11,
      "outputs": []
    },
    {
      "cell_type": "markdown",
      "metadata": {
        "id": "yTldFvbX28Na"
      },
      "source": [
        "### Step 5 - Output Layer"
      ]
    },
    {
      "cell_type": "code",
      "metadata": {
        "id": "1p_Zj1Mc3Ko_"
      },
      "source": [
        "cnn.add(tf.keras.layers.Dense(units=1, activation='sigmoid'))"
      ],
      "execution_count": 12,
      "outputs": []
    },
    {
      "cell_type": "markdown",
      "metadata": {
        "id": "D6XkI90snSDl"
      },
      "source": [
        "## Part 3 - Training the CNN"
      ]
    },
    {
      "cell_type": "markdown",
      "metadata": {
        "id": "vfrFQACEnc6i"
      },
      "source": [
        "### Compiling the CNN"
      ]
    },
    {
      "cell_type": "code",
      "metadata": {
        "id": "NALksrNQpUlJ"
      },
      "source": [
        "cnn.compile(optimizer = 'adam', loss = 'binary_crossentropy', metrics = ['accuracy'])"
      ],
      "execution_count": 13,
      "outputs": []
    },
    {
      "cell_type": "markdown",
      "metadata": {
        "id": "ehS-v3MIpX2h"
      },
      "source": [
        "### Training the CNN on the Training set and evaluating it on the Test set"
      ]
    },
    {
      "cell_type": "code",
      "metadata": {
        "id": "XUj1W4PJptta",
        "outputId": "03cdcb1d-c70a-4262-a437-63381de84e94",
        "colab": {
          "base_uri": "https://localhost:8080/",
          "height": 904
        }
      },
      "source": [
        "cnn.fit(x = training_set, validation_data = test_set, epochs = 25)"
      ],
      "execution_count": 27,
      "outputs": [
        {
          "output_type": "stream",
          "text": [
            "Epoch 1/25\n",
            "10/10 [==============================] - 10s 974ms/step - loss: 0.1825 - accuracy: 0.9305 - val_loss: 0.2052 - val_accuracy: 0.9412\n",
            "Epoch 2/25\n",
            "10/10 [==============================] - 9s 889ms/step - loss: 0.1551 - accuracy: 0.9338 - val_loss: 0.2148 - val_accuracy: 0.9265\n",
            "Epoch 3/25\n",
            "10/10 [==============================] - 9s 930ms/step - loss: 0.1533 - accuracy: 0.9503 - val_loss: 0.2147 - val_accuracy: 0.9338\n",
            "Epoch 4/25\n",
            "10/10 [==============================] - 9s 936ms/step - loss: 0.1136 - accuracy: 0.9636 - val_loss: 0.2361 - val_accuracy: 0.9118\n",
            "Epoch 5/25\n",
            "10/10 [==============================] - 9s 924ms/step - loss: 0.1211 - accuracy: 0.9503 - val_loss: 0.2939 - val_accuracy: 0.8456\n",
            "Epoch 6/25\n",
            "10/10 [==============================] - 9s 932ms/step - loss: 0.1336 - accuracy: 0.9536 - val_loss: 0.2632 - val_accuracy: 0.8824\n",
            "Epoch 7/25\n",
            "10/10 [==============================] - 9s 939ms/step - loss: 0.1606 - accuracy: 0.9338 - val_loss: 0.2667 - val_accuracy: 0.8750\n",
            "Epoch 8/25\n",
            "10/10 [==============================] - 9s 919ms/step - loss: 0.1314 - accuracy: 0.9603 - val_loss: 0.3311 - val_accuracy: 0.8529\n",
            "Epoch 9/25\n",
            "10/10 [==============================] - 9s 903ms/step - loss: 0.1163 - accuracy: 0.9404 - val_loss: 0.2114 - val_accuracy: 0.9265\n",
            "Epoch 10/25\n",
            "10/10 [==============================] - 9s 927ms/step - loss: 0.0786 - accuracy: 0.9768 - val_loss: 0.2144 - val_accuracy: 0.9191\n",
            "Epoch 11/25\n",
            "10/10 [==============================] - 9s 931ms/step - loss: 0.0822 - accuracy: 0.9768 - val_loss: 0.2559 - val_accuracy: 0.8750\n",
            "Epoch 12/25\n",
            "10/10 [==============================] - 9s 933ms/step - loss: 0.0822 - accuracy: 0.9669 - val_loss: 0.1913 - val_accuracy: 0.9265\n",
            "Epoch 13/25\n",
            "10/10 [==============================] - 9s 923ms/step - loss: 0.0600 - accuracy: 0.9834 - val_loss: 0.2308 - val_accuracy: 0.8824\n",
            "Epoch 14/25\n",
            "10/10 [==============================] - 10s 986ms/step - loss: 0.0460 - accuracy: 0.9868 - val_loss: 0.2773 - val_accuracy: 0.9044\n",
            "Epoch 15/25\n",
            "10/10 [==============================] - 9s 912ms/step - loss: 0.0481 - accuracy: 0.9801 - val_loss: 0.2607 - val_accuracy: 0.9338\n",
            "Epoch 16/25\n",
            "10/10 [==============================] - 9s 920ms/step - loss: 0.0481 - accuracy: 0.9868 - val_loss: 0.2885 - val_accuracy: 0.9265\n",
            "Epoch 17/25\n",
            "10/10 [==============================] - 9s 904ms/step - loss: 0.0464 - accuracy: 0.9834 - val_loss: 0.2768 - val_accuracy: 0.8897\n",
            "Epoch 18/25\n",
            "10/10 [==============================] - 9s 916ms/step - loss: 0.0408 - accuracy: 0.9901 - val_loss: 0.3037 - val_accuracy: 0.8897\n",
            "Epoch 19/25\n",
            "10/10 [==============================] - 9s 915ms/step - loss: 0.0372 - accuracy: 0.9868 - val_loss: 0.2469 - val_accuracy: 0.9338\n",
            "Epoch 20/25\n",
            "10/10 [==============================] - 9s 932ms/step - loss: 0.0386 - accuracy: 0.9901 - val_loss: 0.4008 - val_accuracy: 0.9118\n",
            "Epoch 21/25\n",
            "10/10 [==============================] - 9s 939ms/step - loss: 0.0498 - accuracy: 0.9868 - val_loss: 0.2655 - val_accuracy: 0.9191\n",
            "Epoch 22/25\n",
            "10/10 [==============================] - 9s 933ms/step - loss: 0.0258 - accuracy: 0.9967 - val_loss: 0.2820 - val_accuracy: 0.9044\n",
            "Epoch 23/25\n",
            "10/10 [==============================] - 10s 961ms/step - loss: 0.0244 - accuracy: 0.9901 - val_loss: 0.2932 - val_accuracy: 0.9191\n",
            "Epoch 24/25\n",
            "10/10 [==============================] - 9s 928ms/step - loss: 0.0601 - accuracy: 0.9768 - val_loss: 0.3614 - val_accuracy: 0.8971\n",
            "Epoch 25/25\n",
            "10/10 [==============================] - 9s 929ms/step - loss: 0.0519 - accuracy: 0.9768 - val_loss: 0.3327 - val_accuracy: 0.9191\n"
          ],
          "name": "stdout"
        },
        {
          "output_type": "execute_result",
          "data": {
            "text/plain": [
              "<tensorflow.python.keras.callbacks.History at 0x7fe973252e10>"
            ]
          },
          "metadata": {
            "tags": []
          },
          "execution_count": 27
        }
      ]
    },
    {
      "cell_type": "markdown",
      "metadata": {
        "id": "U3PZasO0006Z"
      },
      "source": [
        "## Part 4 - Making a single prediction"
      ]
    },
    {
      "cell_type": "code",
      "metadata": {
        "id": "gsSiWEJY1BPB"
      },
      "source": [
        "import numpy as np\n",
        "from keras.preprocessing import image\n",
        "test_image = image.load_img('/content/drive/My Drive/Face Mask detection /validation/image_151.png', target_size = (64, 64))\n",
        "test_image = image.img_to_array(test_image)\n",
        "test_image = np.expand_dims(test_image, axis = 0)\n",
        "result = cnn.predict(test_image)\n",
        "training_set.class_indices\n",
        "if result[0][0] == 1:\n",
        "  prediction = 'without_mask'\n",
        "else:\n",
        "  prediction = 'with_mask'"
      ],
      "execution_count": 32,
      "outputs": []
    },
    {
      "cell_type": "code",
      "metadata": {
        "id": "ED9KB3I54c1i",
        "outputId": "65ba2188-ef9e-48f9-cf36-881d4cf5a679",
        "colab": {
          "base_uri": "https://localhost:8080/",
          "height": 34
        }
      },
      "source": [
        "print(prediction)"
      ],
      "execution_count": 33,
      "outputs": [
        {
          "output_type": "stream",
          "text": [
            "with_mask\n"
          ],
          "name": "stdout"
        }
      ]
    },
    {
      "cell_type": "code",
      "metadata": {
        "id": "wmqFoaGbJNGJ"
      },
      "source": [
        ""
      ],
      "execution_count": null,
      "outputs": []
    }
  ]
}